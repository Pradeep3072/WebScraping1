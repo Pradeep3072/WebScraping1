{
 "cells": [
  {
   "cell_type": "code",
   "execution_count": 44,
   "id": "ca26c830",
   "metadata": {},
   "outputs": [],
   "source": [
    "from bs4 import BeautifulSoup\n",
    "import requests"
   ]
  },
  {
   "cell_type": "code",
   "execution_count": 45,
   "id": "2099d101",
   "metadata": {},
   "outputs": [],
   "source": [
    "url=\"https://www.flipkart.com/samsung-mobile-store?otracker=nmenu_sub_Electronics_0_Samsung\""
   ]
  },
  {
   "cell_type": "code",
   "execution_count": 46,
   "id": "51ef7a94",
   "metadata": {},
   "outputs": [],
   "source": [
    "headers = {\"User-Agent\": \"Mozilla/5.0 (Windows NT 10.0; Win64; x64) AppleWebKit/537.36 (KHTML, like Gecko) Chrome/116.0.0.0 Safari/537.36 Edg/116.0.1938.62\", \"Accept-Encoding\":\"gzip, deflate,UTF-8\", \"Accept\":\"text/html,application/xhtml+xml,application/xml;q=0.9,*/*;q=0.8\", \"DNT\":\"1\",\"Connection\":\"close\", \"Upgrade-Insecure-Requests\":\"1\"}\n"
   ]
  },
  {
   "cell_type": "code",
   "execution_count": 47,
   "id": "e4bfdf04",
   "metadata": {},
   "outputs": [
    {
     "data": {
      "text/plain": [
       "<Response [200]>"
      ]
     },
     "execution_count": 47,
     "metadata": {},
     "output_type": "execute_result"
    }
   ],
   "source": [
    "page=requests.get(url)\n",
    "\n",
    "page"
   ]
  },
  {
   "cell_type": "code",
   "execution_count": 48,
   "id": "4dce4ba0",
   "metadata": {},
   "outputs": [],
   "source": [
    "soup1=BeautifulSoup(page.content,\"html.parser\")\n"
   ]
  },
  {
   "cell_type": "code",
   "execution_count": 49,
   "id": "87084a20",
   "metadata": {},
   "outputs": [],
   "source": [
    "soup2 = BeautifulSoup(soup1.prettify(), \"html.parser\")\n"
   ]
  },
  {
   "cell_type": "code",
   "execution_count": 50,
   "id": "4d4f4011",
   "metadata": {},
   "outputs": [],
   "source": [
    "models = soup2.find(\"div\",class_=\"_6t1WkM _3HqJxg\").find_all(\"div\",class_=\"_3YgSsQ\")"
   ]
  },
  {
   "cell_type": "code",
   "execution_count": 51,
   "id": "eddbfa9f",
   "metadata": {},
   "outputs": [],
   "source": [
    "import csv \n",
    "\n",
    "header = ['Model', 'Price', 'Rating']\n",
    "\n",
    "with open('fk1scrap.csv', 'w', newline='', encoding='UTF8') as f:\n",
    "    writer = csv.writer(f)\n",
    "    writer.writerow(header)\n",
    "  "
   ]
  },
  {
   "cell_type": "code",
   "execution_count": 52,
   "id": "1c1eb486",
   "metadata": {},
   "outputs": [],
   "source": [
    "for each in models:\n",
    "    model = each.find(\"a\",class_=\"s1Q9rs\").text.strip()\n",
    "    price = each.find(\"div\",class_=\"_30jeq3\").text.strip()\n",
    "    rating = each.find(\"div\",class_=\"_3LWZlK\").text.strip()\n",
    "    with open('fk1scrap.csv', 'a+', newline='', encoding='UTF8') as f:\n",
    "        data = [model,price,rating]\n",
    "        writer = csv.writer(f)\n",
    "        writer.writerow(data)"
   ]
  },
  {
   "cell_type": "code",
   "execution_count": null,
   "id": "33ab0717",
   "metadata": {},
   "outputs": [],
   "source": []
  }
 ],
 "metadata": {
  "kernelspec": {
   "display_name": "Python 3 (ipykernel)",
   "language": "python",
   "name": "python3"
  },
  "language_info": {
   "codemirror_mode": {
    "name": "ipython",
    "version": 3
   },
   "file_extension": ".py",
   "mimetype": "text/x-python",
   "name": "python",
   "nbconvert_exporter": "python",
   "pygments_lexer": "ipython3",
   "version": "3.9.12"
  }
 },
 "nbformat": 4,
 "nbformat_minor": 5
}
